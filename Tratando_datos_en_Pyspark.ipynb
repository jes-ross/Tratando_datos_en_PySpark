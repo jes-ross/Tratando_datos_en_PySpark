{
  "nbformat": 4,
  "nbformat_minor": 0,
  "metadata": {
    "colab": {
      "provenance": [],
      "authorship_tag": "ABX9TyOl4ZFhu7FEQTvMnXQMHLZw",
      "include_colab_link": true
    },
    "kernelspec": {
      "name": "python3",
      "display_name": "Python 3"
    },
    "language_info": {
      "name": "python"
    }
  },
  "cells": [
    {
      "cell_type": "markdown",
      "metadata": {
        "id": "view-in-github",
        "colab_type": "text"
      },
      "source": [
        "<a href=\"https://colab.research.google.com/github/jes-ross/Tratando_datos_en_PySpark/blob/main/Tratando_datos_en_Pyspark.ipynb\" target=\"_parent\"><img src=\"https://colab.research.google.com/assets/colab-badge.svg\" alt=\"Open In Colab\"/></a>"
      ]
    },
    {
      "cell_type": "code",
      "execution_count": null,
      "metadata": {
        "id": "K4kDmi7mBeRK"
      },
      "outputs": [],
      "source": [
        "#Empezamos instalando PySpark.\n",
        "!pip install pyspark"
      ]
    },
    {
      "cell_type": "code",
      "source": [
        "#Primero importaremos PySpark.\n",
        "import pyspark\n",
        "#Luego la librería que queremos usar\n",
        "from pyspark.sql import SparkSession"
      ],
      "metadata": {
        "id": "4hcAYnDED65s"
      },
      "execution_count": 2,
      "outputs": []
    },
    {
      "cell_type": "code",
      "source": [
        "#En este caso se utilizará un CSV de Kaggle sobre música de Black_Metal\n",
        "#Se procede a crear la sesión\n",
        "spark = SparkSession.builder.appName('BlackMetal').getOrCreate()\n",
        "#Procedemos a ver los datos de la sesión\n",
        "spark\n"
      ],
      "metadata": {
        "colab": {
          "base_uri": "https://localhost:8080/",
          "height": 219
        },
        "id": "inL7zWb8EQGO",
        "outputId": "57e87219-4e69-4651-a6e6-5c5960291afe"
      },
      "execution_count": 4,
      "outputs": [
        {
          "output_type": "execute_result",
          "data": {
            "text/plain": [
              "<pyspark.sql.session.SparkSession at 0x7f13b4bab940>"
            ],
            "text/html": [
              "\n",
              "            <div>\n",
              "                <p><b>SparkSession - in-memory</b></p>\n",
              "                \n",
              "        <div>\n",
              "            <p><b>SparkContext</b></p>\n",
              "\n",
              "            <p><a href=\"http://afa6037837b6:4040\">Spark UI</a></p>\n",
              "\n",
              "            <dl>\n",
              "              <dt>Version</dt>\n",
              "                <dd><code>v3.3.2</code></dd>\n",
              "              <dt>Master</dt>\n",
              "                <dd><code>local[*]</code></dd>\n",
              "              <dt>AppName</dt>\n",
              "                <dd><code>BlackMetal</code></dd>\n",
              "            </dl>\n",
              "        </div>\n",
              "        \n",
              "            </div>\n",
              "        "
            ]
          },
          "metadata": {},
          "execution_count": 4
        }
      ]
    },
    {
      "cell_type": "code",
      "source": [
        "#Ahora crearemos el dataframe\n",
        "df = spark.read.option(\"header\", \"true\").csv('black_metal.csv')\n",
        "df.show(10)#Mostramos las 10 primeras lineas."
      ],
      "metadata": {
        "colab": {
          "base_uri": "https://localhost:8080/"
        },
        "id": "SAAng8LSGQe6",
        "outputId": "988f83dc-7418-42df-97b4-32d4d50d39d5"
      },
      "execution_count": 6,
      "outputs": [
        {
          "output_type": "stream",
          "name": "stdout",
          "text": [
            "+---------------+----------+--------------------+------------+-----------+--------------------+----+\n",
            "|         artist|      asin|               media|review_count|star_rating|               title|year|\n",
            "+---------------+----------+--------------------+------------+-----------+--------------------+----+\n",
            "|        Emperor|B08DPV71GH|               Vinyl|          62|        4.9|In The Nightside ...|2021|\n",
            "|   King Diamond|B086PRJM4D|Vinyl,MP3 Music,A...|         455|        4.8|                Them|2022|\n",
            "| ROTTING CHRIST|B07F9GMTQH|            Audio CD|          33|          5|Under Our Black Cult|2018|\n",
            "|       Immortal|B07R7BN63W|Vinyl,MP3 Music,A...|         419|        4.8| Northern Chaos Gods|2018|\n",
            "|     Darkthrone|B07YMFVRXP|Vinyl,MP3 Music,A...|         416|        4.8|    Old Star Picture|2019|\n",
            "|   Dimmu Borgir|B087LB146L|Audio CD,MP3 Musi...|         412|        4.8|Enthroned Darknes...|2020|\n",
            "|Cradle Of Filth|B0012ENNCK|  MP3 Music,Audio CD|         410|        4.8|              Midian|null|\n",
            "|      Sepultura|B084DG7GG4|Audio CD,MP3 Musi...|         384|        4.8|Schizophrenia Inc...|2020|\n",
            "|Cradle Of Filth|B00Y9Y07BA|Audio CD,MP3 Musi...|         372|        4.8|     Hammer Of Phils|2015|\n",
            "|     Darkthrone|B0050NDXUG|Vinyl,MP3 Music,A...|         367|        4.8|         Panzerfaust|2017|\n",
            "+---------------+----------+--------------------+------------+-----------+--------------------+----+\n",
            "only showing top 10 rows\n",
            "\n"
          ]
        }
      ]
    },
    {
      "cell_type": "code",
      "source": [
        "df.select(\"artist\").distinct().show()#Quiero saber los distintos artistas."
      ],
      "metadata": {
        "colab": {
          "base_uri": "https://localhost:8080/"
        },
        "id": "6UFETbdTG9Uk",
        "outputId": "db792953-9989-4fb9-c39d-c086c2e379ee"
      },
      "execution_count": 12,
      "outputs": [
        {
          "output_type": "stream",
          "name": "stdout",
          "text": [
            "+--------------------+\n",
            "|              artist|\n",
            "+--------------------+\n",
            "|            Abruptum|\n",
            "|             ANTZAAT|\n",
            "|    Origin of Plague|\n",
            "|          VASAELETHH|\n",
            "|     Paysage D'Hiver|\n",
            "|             TSJUDER|\n",
            "|           Walquiria|\n",
            "|            SOLEFALD|\n",
            "|               NAHAR|\n",
            "|    Faithless Priest|\n",
            "|Prevalent Resistance|\n",
            "|              Marduk|\n",
            "|              Burzum|\n",
            "|           Bethlehem|\n",
            "|     Gates Of Ishtar|\n",
            "|      エンスレイヴド|\n",
            "|             Haemoth|\n",
            "|           Hivelords|\n",
            "|       Mercyful Fate|\n",
            "|Darkthrone Holy D...|\n",
            "+--------------------+\n",
            "only showing top 20 rows\n",
            "\n"
          ]
        }
      ]
    },
    {
      "cell_type": "code",
      "source": [
        "#Vamos a ordenarlo por Rating\n",
        "df.select(\"artist\", \"star_rating\").orderBy(\"star_rating\").show()"
      ],
      "metadata": {
        "colab": {
          "base_uri": "https://localhost:8080/"
        },
        "id": "6XWups1OIhX1",
        "outputId": "7bdf8fe4-b546-4c11-e4be-deb386a03030"
      },
      "execution_count": 15,
      "outputs": [
        {
          "output_type": "stream",
          "name": "stdout",
          "text": [
            "+-------------------+-----------+\n",
            "|             artist|star_rating|\n",
            "+-------------------+-----------+\n",
            "|        Witchmaster|       null|\n",
            "|        Necrophobic|       null|\n",
            "|    Various Artists|       null|\n",
            "|    In The Woods...|       null|\n",
            "|          Cadaveria|       null|\n",
            "|       Celtic Frost|       null|\n",
            "|           Ragnarok|       null|\n",
            "|          Katatonia|       null|\n",
            "|          Underoath|       null|\n",
            "|           Enslaved|       null|\n",
            "|          Leviathan|       null|\n",
            "|Ceremonial Castings|       null|\n",
            "|      Mercyful Fate|       null|\n",
            "|               ABSU|       null|\n",
            "|          Sepultura|       null|\n",
            "|           Enslaved|       null|\n",
            "|         Darkthrone|       null|\n",
            "|             Arallu|       null|\n",
            "|           Empyrium|       null|\n",
            "|      Black Funeral|       null|\n",
            "+-------------------+-----------+\n",
            "only showing top 20 rows\n",
            "\n"
          ]
        }
      ]
    },
    {
      "cell_type": "markdown",
      "source": [
        "En este caso nos devuelve nulos."
      ],
      "metadata": {
        "id": "T-5SIX1BJPzq"
      }
    },
    {
      "cell_type": "code",
      "source": [
        "df.select(\"artist\", \"star_rating\").orderBy(\"star_rating\", ascending=False).show()#Aquí lo que hacemos es ordenar de manera descendente."
      ],
      "metadata": {
        "colab": {
          "base_uri": "https://localhost:8080/"
        },
        "id": "PfqL7xWaJUsI",
        "outputId": "9f8ec8d8-7376-4eab-9b25-15ee4b18f22b"
      },
      "execution_count": 16,
      "outputs": [
        {
          "output_type": "stream",
          "name": "stdout",
          "text": [
            "+----------------+-----------+\n",
            "|          artist|star_rating|\n",
            "+----------------+-----------+\n",
            "|Impaled Nazarene|          5|\n",
            "|             Dam|          5|\n",
            "|      Falkenbach|          5|\n",
            "|       Sepultura|          5|\n",
            "|      Falkenbach|          5|\n",
            "|  ROTTING CHRIST|          5|\n",
            "|       BORKNAGAR|          5|\n",
            "|       GRAVELAND|          5|\n",
            "|       Wintersun|          5|\n",
            "|       Nargaroth|          5|\n",
            "|       Wintersun|          5|\n",
            "|    Siebenburgen|          5|\n",
            "| Various Artists|          5|\n",
            "|       Kvelertak|          5|\n",
            "|   Carach Angren|          5|\n",
            "|       STORMLORD|          5|\n",
            "|       Wolfchant|          5|\n",
            "|        Thyrfing|          5|\n",
            "|     Old Funeral|          5|\n",
            "| Paysage d'Hiver|          5|\n",
            "+----------------+-----------+\n",
            "only showing top 20 rows\n",
            "\n"
          ]
        }
      ]
    },
    {
      "cell_type": "code",
      "source": [
        "#Aquí seleccionaremos las distintas marcas\n",
        "df.select(\"star_rating\").distinct().show()"
      ],
      "metadata": {
        "colab": {
          "base_uri": "https://localhost:8080/"
        },
        "id": "4O2fCRVoKA9t",
        "outputId": "51e4f14a-0f86-49c1-a053-104fc61e89a2"
      },
      "execution_count": 17,
      "outputs": [
        {
          "output_type": "stream",
          "name": "stdout",
          "text": [
            "+-----------+\n",
            "|star_rating|\n",
            "+-----------+\n",
            "|        3.1|\n",
            "|        4.2|\n",
            "|          3|\n",
            "|        4.4|\n",
            "|        3.8|\n",
            "|        4.5|\n",
            "|       null|\n",
            "|        4.9|\n",
            "|        3.4|\n",
            "|          5|\n",
            "|        3.3|\n",
            "|        4.3|\n",
            "|        3.5|\n",
            "|        4.8|\n",
            "|        4.1|\n",
            "|        4.6|\n",
            "|        3.6|\n",
            "|        3.2|\n",
            "|        3.7|\n",
            "|        4.7|\n",
            "+-----------+\n",
            "only showing top 20 rows\n",
            "\n"
          ]
        }
      ]
    }
  ]
}